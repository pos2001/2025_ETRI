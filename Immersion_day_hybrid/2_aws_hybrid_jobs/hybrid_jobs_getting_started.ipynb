{
 "cells": [
  {
   "cell_type": "markdown",
   "metadata": {},
   "source": [
    "# Getting started with Amazon Braket Hybrid Jobs\n",
    "\n",
    "This tutorial shows how to run your first Amazon Braket Hybrid Job. To get started, we consider a trivial algorithm and a small circuit with only one qubit and one gate.\n",
    "\n",
    "This notebook to large parts follows the example `./Braket examples/hybrid_jobs/0_Creating_your_first_Hybrid_Job`. Further examples of more advanced features can be found in the directory `./Braket examples/hybrid_jobs`.\n",
    "\n",
    "## Learning outcomes\n",
    "* Write an algorithm script to run on Braket Jobs\n",
    "* Understand how to run scripts or functions\n",
    "* Create a job on Braket simulators or QPUs\n",
    "* Monitoring the job state\n",
    "* Save results from a job\n",
    "* Running jobs with priority on QPUs\n",
    "* Use local jobs to quickly test and debug scripts"
   ]
  },
  {
   "cell_type": "markdown",
   "metadata": {},
   "source": [
    "이 결과는 X축 회전에 따라 Z 방향 스핀의 기댓값은 코사인 함수가 되며 이 기대값이 변화함을 보여줍니다.\n",
    "\n",
    "즉, \"𝑋 회전의 각도가 변함에 따라 관측 가능한 𝑍의 기대값(평균값)이 어떻게 변화하는가?\"\n",
    "\n",
    "양자 컴퓨터에서 'Z 연산자에 대한 기대값'은 중요한 개념(양자 토모그래피)\n",
    "\n",
    "기대값이 0이면 |0>와 |1> 상태가 균등하게 섞여 있다는 의미\n",
    "\n",
    "기대값이 +1에 가까우면 상태가 |0>에 가깝다는 의미"
   ]
  },
  {
   "cell_type": "markdown",
   "metadata": {},
   "source": [
    "## Toy Problem\n",
    "\n",
    "Most potential candidates for quantum applications don't just run on a QPU. Instead, your workload likely shifts back and forth between a CPU/GPU and a QPU.\n",
    "\n",
    "Let's assume a very simple toy problem to illustrate this:\n",
    "\n",
    "<div class=\"alert alert-block alert-info\">\n",
    "    <b>How does the expectation value of the observable $Z$ change with the angle of an $X$ rotation?</b>\n",
    "</div>\n",
    "\n",
    "<div align=\"center\">\n",
    "    <img src=\"circuit.png\" width=\"400\" />\n",
    "</div>\n",
    "\n",
    "Obviously, this problem can be easily solved analytically. \n",
    "\n",
    "With $$\\left|0\\right> = \\begin{pmatrix} 1 \\\\ 0 \\end{pmatrix}$$ and $$R_x(\\theta) = \\begin{pmatrix} \\cos{\\frac{\\theta}{2}} & -i \\sin{\\frac{\\theta}{2}} \\\\ -i \\sin{\\frac{\\theta}{2}} & \\cos{\\frac{\\theta}{2}} \\end{pmatrix}$$ the quantum state $\\left|\\psi\\right>$ prepared by the circuit above results in $$ \\left|\\psi\\right> = R_x(\\theta) \\left|0\\right> = \\begin{pmatrix} \\cos{\\frac{\\theta}{2}} \\\\ -i \\sin{\\frac{\\theta}{2}} \\end{pmatrix} $$ With the Pauli-Z operator $$ Z = \\begin{pmatrix} 1 & 0 \\\\ 0 & -1 \\end{pmatrix} $$ the expectation value is $$ \\left<\\psi|Z|\\psi\\right> = \\left|\\cos{\\frac{\\theta}{2}}\\right|^2 - \\left|-i \\sin{\\frac{\\theta}{2}}\\right|^2 = \\cos^2{\\frac{\\theta}{2}} - \\sin^2{\\frac{\\theta}{2}} = \\cos{\\theta} $$\n",
    "\n",
    "### Algorithm\n",
    "\n",
    "For the purpose of this tutorial, we sample the result with a **hybrid algorithm** which evaluates $\\left<Z\\right>$ iteratively for given values of $\\theta$. The classical part of the algorithm loops over the sequence of angles and updates the circuit parameter while the quantum part performs the measurement of the expecation value.\n",
    "\n",
    "Let's review how we can code up the algorithm for this problem:"
   ]
  },
  {
   "cell_type": "markdown",
   "metadata": {},
   "source": [
    "알고리즘의 고전 컴퓨팅 부분이 일련의 각도를 반복하고 회로 파라미터를 업데이트하는 한편, 양자 디바이스가 기대값 측정을 수행합니다."
   ]
  },
  {
   "cell_type": "code",
   "execution_count": 1,
   "metadata": {
    "tags": []
   },
   "outputs": [],
   "source": [
    "from braket.circuits import Circuit, FreeParameter, Observable\n",
    "from braket.jobs.metrics import log_metric\n",
    "\n",
    "import math\n",
    "\n",
    "# 이 함수는 4개의 입력을 받음\n",
    "def run_algorithm(device, n_iterations, step_size, n_shots):\n",
    "    \n",
    "    # 양자 회로 정의\n",
    "    example_circuit = Circuit().rx(0, FreeParameter(\"theta\"))\n",
    "    \n",
    "    # 0번째 비트에 대한 기대값 측정, 양자 하드웨어가 실행\n",
    "    example_circuit.expectation(observable=Observable.Z(), target=0)\n",
    "    print(\"Quantum circuit:\")\n",
    "    \n",
    "    #회로의 구조 출력\n",
    "    print(example_circuit)\n",
    "\n",
    "    # Here, our actual algorithm starts:\n",
    "    # 결과 저장을 위한 빈 딕셔너리 초기화:\n",
    "    results = {}\n",
    "    # 알고리즘은 n_iterations 횟수만큼 반복\n",
    "    for idx in range(n_iterations):\n",
    "        print(f\">>> Iteration {idx}\")\n",
    "        \n",
    "        #각도 계산은 고전 컴퓨터가 수행\n",
    "        rx_angle = math.pi * idx * step_size # => 3.14*idx(0,1,2,..,5)*step_size(0.1)\n",
    "    \n",
    "        # 양자 컴퓨터 사용하여 회로 실행, 100번/1000번 측정하여 결과값 제공\n",
    "        result = device.run(\n",
    "            example_circuit,\n",
    "            shots=n_shots,\n",
    "            inputs={\"theta\": rx_angle} #iteration 만큼 각도가 바뀐다\n",
    "        ).result()\n",
    "        \n",
    "        #회로에 정의된 관측 가능한 양들의 기대값 리스트 중 첫번째 값, 즉 기대값을 가져온다\n",
    "        exp_val = result.values[0]\n",
    "\n",
    "        # 각 반복에서의 회전 각도와 기대값을 딕셔너리로 저장, 알고리즘의 진행상황을 모니터링하는데 유용\n",
    "        log_metric(metric_name=\"rotation_angle\", value=rx_angle, iteration_number=idx)\n",
    "        log_metric(metric_name=\"expectation_value\", value=exp_val, iteration_number=idx)\n",
    "\n",
    "         # 로컬 메모리에 결과 저장\n",
    "        results[idx] = {\n",
    "            'rx_angle': rx_angle,\n",
    "            'expecation_value': exp_val\n",
    "        }\n",
    "\n",
    "    return results"
   ]
  },
  {
   "cell_type": "markdown",
   "metadata": {},
   "source": [
    "Of crouse, the function `run_algorithm` can be executed locally. "
   ]
  },
  {
   "cell_type": "markdown",
   "metadata": {},
   "source": [
    "아래 코드는 일반적인 아마존 브라켓 실행 코드, 하이브리드 데코레이터(@hybrid_job)나 AwsQuantumJob 사용이 없다\n",
    "\n",
    "즉 하이브리드 잡을 사용하지 않은 코드라서, 결과는 일반 task 형태로 구현됨\n",
    "\n",
    "이 경우는 고전 컴퓨팅 리소스로 로컬 환경의 고전 컴퓨팅 리소스(CPU, 메모리 등)가 사용됨"
   ]
  },
  {
   "cell_type": "code",
   "execution_count": 2,
   "metadata": {
    "tags": []
   },
   "outputs": [
    {
     "name": "stdout",
     "output_type": "stream",
     "text": [
      "Quantum circuit:\n",
      "T  : │      0      │   Result Types   │\n",
      "      ┌───────────┐ ┌────────────────┐ \n",
      "q0 : ─┤ Rx(theta) ├─┤ Expectation(Z) ├─\n",
      "      └───────────┘ └────────────────┘ \n",
      "T  : │      0      │   Result Types   │\n",
      "\n",
      "Unassigned parameters: [theta].\n",
      ">>> Iteration 0\n",
      "Metrics - timestamp=1742539430.5786698; rotation_angle=0.0; iteration_number=0;\n",
      "Metrics - timestamp=1742539430.5787568; expectation_value=1.0; iteration_number=0;\n",
      ">>> Iteration 1\n",
      "Metrics - timestamp=1742539433.3172956; rotation_angle=0.3141592653589793; iteration_number=1;\n",
      "Metrics - timestamp=1742539433.317377; expectation_value=0.99; iteration_number=1;\n",
      ">>> Iteration 2\n",
      "Metrics - timestamp=1742539434.895472; rotation_angle=0.6283185307179586; iteration_number=2;\n",
      "Metrics - timestamp=1742539434.8955584; expectation_value=0.86; iteration_number=2;\n",
      ">>> Iteration 3\n",
      "Metrics - timestamp=1742539437.536184; rotation_angle=0.9424777960769379; iteration_number=3;\n",
      "Metrics - timestamp=1742539437.536266; expectation_value=0.5; iteration_number=3;\n",
      ">>> Iteration 4\n",
      "Metrics - timestamp=1742539440.2535563; rotation_angle=1.2566370614359172; iteration_number=4;\n",
      "Metrics - timestamp=1742539440.2536366; expectation_value=0.33; iteration_number=4;\n",
      ">>> Iteration 5\n",
      "Metrics - timestamp=1742539442.9581; rotation_angle=1.5707963267948966; iteration_number=5;\n",
      "Metrics - timestamp=1742539442.9581828; expectation_value=-0.03; iteration_number=5;\n"
     ]
    }
   ],
   "source": [
    "from braket.aws import AwsDevice\n",
    "from braket.devices import Devices\n",
    "from pprint import pprint\n",
    "\n",
    "device = AwsDevice(Devices.Amazon.SV1)\n",
    "\n",
    "# iteration이 6까지만 사용되서, 기대값이 -1까지 진입하지 못함\n",
    "# 결과는 result에 저장\n",
    "results = run_algorithm(device, n_iterations=6, step_size=0.1, n_shots=200)"
   ]
  },
  {
   "cell_type": "code",
   "execution_count": 3,
   "metadata": {
    "tags": []
   },
   "outputs": [
    {
     "name": "stdout",
     "output_type": "stream",
     "text": [
      "{0: {'rx_angle': 0.0, 'expecation_value': 1.0}, 1: {'rx_angle': 0.3141592653589793, 'expecation_value': 0.99}, 2: {'rx_angle': 0.6283185307179586, 'expecation_value': 0.86}, 3: {'rx_angle': 0.9424777960769379, 'expecation_value': 0.5}, 4: {'rx_angle': 1.2566370614359172, 'expecation_value': 0.33}, 5: {'rx_angle': 1.5707963267948966, 'expecation_value': -0.03}}\n",
      "{0: {'expecation_value': 1.0, 'rx_angle': 0.0},\n",
      " 1: {'expecation_value': 0.99, 'rx_angle': 0.3141592653589793},\n",
      " 2: {'expecation_value': 0.86, 'rx_angle': 0.6283185307179586},\n",
      " 3: {'expecation_value': 0.5, 'rx_angle': 0.9424777960769379},\n",
      " 4: {'expecation_value': 0.33, 'rx_angle': 1.2566370614359172},\n",
      " 5: {'expecation_value': -0.03, 'rx_angle': 1.5707963267948966}}\n"
     ]
    }
   ],
   "source": [
    "print(results)\n",
    "pprint(results)"
   ]
  },
  {
   "cell_type": "markdown",
   "metadata": {},
   "source": [
    "Now, we want to explore how this can be run as an Amazon Braket Hybrid Job.\n",
    "\n",
    "지금부터 위 코드를 하이드브리드 잡을 이용하여 구현"
   ]
  },
  {
   "cell_type": "markdown",
   "metadata": {},
   "source": [
    "## The Amazon Braket Hybrid Jobs Workflow\n",
    "\n",
    "* You can use the Amazon Braket console, a managed notebook instance, or local integrated development environment to call the Braket Hybrid Jobs API. \n",
    "* Amazon Braket Hybrid jobs starts a job instance (based on Amazon EC2) and spins up a jobs container which hosts your algorithm code. \n",
    "* In the left flow, the Jobs container then communicates with an on-demand simulator (SV1, DM1, TN1) or a QPU via a Braket API call. \n",
    "* In the right flow, the simulator is embedded directly within the Jobs container, and can be distributed across multiple CPU or GPU instances to accelerate the job. \n",
    "* Job results are stored in Amazon S3, while logs and metrics can be accessed via Amazon CloudWatch."
   ]
  },
  {
   "cell_type": "markdown",
   "metadata": {},
   "source": [
    "<div>\n",
    "<img src=\"hybrid_jobs.png\"/>\n",
    "</div>"
   ]
  },
  {
   "cell_type": "markdown",
   "metadata": {},
   "source": [
    "## Creating a Job\n",
    "\n",
    "To run the algorithm defined above as a Hybrid Job, we only have to create a wrapper function which will run in the job container and prepares the inputs to the function `run_algorithm` and stores its output.\n",
    "\n",
    "Hyperparameters can be specified as function arguments and we simply annotate the function with the [`@hybrid_job` decorator](https://aws.amazon.com/blogs/quantum-computing/explore-quantum-algorithms-faster-by-running-your-local-python-code-as-an-amazon-braket-hybrid-job-with-minimal-code-changes/) where we can specify on which device we want to execute the quantum tasks.\n",
    "\n",
    "Then, we create a hybrid job simply by invoking the wrapper function. "
   ]
  },
  {
   "cell_type": "code",
   "execution_count": 4,
   "metadata": {
    "tags": []
   },
   "outputs": [],
   "source": [
    "#hybrid_job: 하이브리드 잡을 위한 데코레이터\n",
    "from braket.jobs import hybrid_job\n",
    "from braket.tracking import Tracker\n",
    "# 할당된 양자 디바이스 식별\n",
    "from braket.jobs.environment_variables import get_job_device_arn"
   ]
  },
  {
   "cell_type": "code",
   "execution_count": 5,
   "metadata": {
    "tags": []
   },
   "outputs": [
    {
     "name": "stdout",
     "output_type": "stream",
     "text": [
      "arn:aws:braket:us-east-1:013288819788:job/801a1c90-d676-41f4-9e69-d35698d6a84f QUEUED\n"
     ]
    }
   ],
   "source": [
    "@hybrid_job(device=Devices.Amazon.SV1)\n",
    "def hello_world(n_iterations, step_size, n_shots):\n",
    "    print(\"Execution started\")\n",
    "    cost_tracker = Tracker().start()\n",
    "\n",
    "    #현재 할당된 양자 디바이스를 가져옴\n",
    "    device = AwsDevice(get_job_device_arn())\n",
    "    results = run_algorithm(device, n_iterations, step_size, n_shots)\n",
    "\n",
    "    cost_tracker.stop()\n",
    "    print(\"Execution completed\")\n",
    "    \n",
    "    #알고리즘 실행 결과, 작업 요약, 예상 비용을 포함한 딕셔너리를 반환\n",
    "    return {\n",
    "        \"results\": results,\n",
    "        \"task summary\": cost_tracker.quantum_tasks_statistics(),\n",
    "        \"estimated cost\": float(cost_tracker.simulator_tasks_cost() + cost_tracker.qpu_tasks_cost()),\n",
    "    }\n",
    "\n",
    "# 지금 막 정의한 hello_world 함수를 호출하여 하이브리드 작업을 시작\n",
    "job = hello_world(n_iterations=11, step_size=0.1, n_shots=1000)\n",
    "\n",
    "# 잡의 ARN 및 상태('CREATED', 'RUNNING', 'COMPLETED', 'FAILED') 출력\n",
    "print(f\"{job.arn} {job.state()}\")"
   ]
  },
  {
   "cell_type": "markdown",
   "metadata": {},
   "source": [
    "## Checking the job state\n",
    "\n",
    "The status of a Braket Job can be checked by calling `job.state()`. The state will be one of \"QUEUED\", \"RUNNING\", \"FAILED\", \"COMPLETED\", \"CANCELLING\", or \"CANCELLED\". "
   ]
  },
  {
   "cell_type": "code",
   "execution_count": 6,
   "metadata": {
    "tags": []
   },
   "outputs": [
    {
     "data": {
      "text/plain": [
       "'COMPLETED'"
      ]
     },
     "execution_count": 6,
     "metadata": {},
     "output_type": "execute_result"
    }
   ],
   "source": [
    "job.state()"
   ]
  },
  {
   "cell_type": "markdown",
   "metadata": {},
   "source": [
    "## Loading the job result\n",
    "\n",
    "Once completed, the result can be retrieved using `job.result()`. Logs and metadata are also accessible via `job.logs()` and `job.metadata()`. If you lose the reference to the job object, you can always reinstantiate it using your job ARN as `job=AwsQuantumJob(\"your-job-arn\")`. The ARN of a job can be found in the Amazon Braket Console. By default the ARN of a job will be \"`arn:aws:braket:<region>:<account_id>:job/<job_name>`\". "
   ]
  },
  {
   "cell_type": "code",
   "execution_count": 7,
   "metadata": {
    "tags": []
   },
   "outputs": [
    {
     "name": "stdout",
     "output_type": "stream",
     "text": [
      "Create: 2025-03-21 06:56:07.063000+00:00\n",
      "Started: 2025-03-21 06:56:46.974000+00:00\n",
      "Ended: 2025-03-21 06:58:25.935000+00:00\n",
      "\n",
      "Runtime of the job instance: 99000 milliseconds\n",
      "\n",
      "{0: {'expecation_value': 1.0, 'rx_angle': 0.0},\n",
      " 1: {'expecation_value': 0.962, 'rx_angle': 0.3141592653589793},\n",
      " 2: {'expecation_value': 0.806, 'rx_angle': 0.6283185307179586},\n",
      " 3: {'expecation_value': 0.574, 'rx_angle': 0.9424777960769379},\n",
      " 4: {'expecation_value': 0.304, 'rx_angle': 1.2566370614359172},\n",
      " 5: {'expecation_value': -0.016, 'rx_angle': 1.5707963267948966},\n",
      " 6: {'expecation_value': -0.322, 'rx_angle': 1.8849555921538759},\n",
      " 7: {'expecation_value': -0.594, 'rx_angle': 2.199114857512855},\n",
      " 8: {'expecation_value': -0.842, 'rx_angle': 2.5132741228718345},\n",
      " 9: {'expecation_value': -0.962, 'rx_angle': 2.827433388230814},\n",
      " 10: {'expecation_value': -1.0, 'rx_angle': 3.141592653589793}}\n"
     ]
    }
   ],
   "source": [
    "#이전에 실행한 하이브리드 작업의 결과를 가져와 출력\n",
    "from pprint import pprint\n",
    "\n",
    "result = job.result()\n",
    "print(f\"Create: {job.metadata()['createdAt']}\")\n",
    "print(f\"Started: {job.metadata()['startedAt']}\")\n",
    "print(f\"Ended: {job.metadata()['endedAt']}\")\n",
    "print()\n",
    "print(f\"Runtime of the job instance: {job.metadata()['billableDuration']} milliseconds\")\n",
    "print()\n",
    "pprint(result['results'])"
   ]
  },
  {
   "cell_type": "code",
   "execution_count": 8,
   "metadata": {
    "tags": []
   },
   "outputs": [],
   "source": [
    "# print(job.logs()) # uncomment to print logs"
   ]
  },
  {
   "cell_type": "code",
   "execution_count": 9,
   "metadata": {
    "tags": []
   },
   "outputs": [
    {
     "name": "stdout",
     "output_type": "stream",
     "text": [
      "Task Summary\n",
      "{'arn:aws:braket:::device/quantum-simulator/amazon/sv1': {'shots': 11000, 'tasks': {'COMPLETED': 11}, 'execution_duration': datetime.timedelta(microseconds=182000), 'billed_execution_duration': datetime.timedelta(seconds=33)}}\n",
      "Note: Charges shown are estimates based on your Amazon Braket simulator and quantum processing unit (QPU) task usage. Estimated charges shown may differ from your actual charges. Estimated charges do not factor in any discounts or credits, and you may experience additional charges based on your use of other services such as Amazon Elastic Compute Cloud (Amazon EC2).\n",
      "Estimated cost to run tasks in this job: 0.04125 USD\n",
      "\n",
      "Billable duration of the job instance: 99000 milliseconds\n"
     ]
    }
   ],
   "source": [
    "print(\"Task Summary\")\n",
    "print(job.result()['task summary'])\n",
    "print('Note: Charges shown are estimates based on your Amazon Braket simulator and quantum processing unit (QPU) task usage. Estimated charges shown may differ from your actual charges. Estimated charges do not factor in any discounts or credits, and you may experience additional charges based on your use of other services such as Amazon Elastic Compute Cloud (Amazon EC2).')\n",
    "print(f\"Estimated cost to run tasks in this job: {job.result()['estimated cost']} USD\")\n",
    "print()\n",
    "print(f\"Billable duration of the job instance: {job.metadata()['billableDuration']} milliseconds\")\n",
    "#task_id = job.metadata()\n",
    "#print('Task ID:', task_id)"
   ]
  },
  {
   "cell_type": "markdown",
   "metadata": {},
   "source": [
    "## Verify Results of our Toy Algorithm\n",
    "\n",
    "Finally, let's verify the result of our algorithms matches our expectation:"
   ]
  },
  {
   "cell_type": "code",
   "execution_count": 10,
   "metadata": {
    "tags": []
   },
   "outputs": [
    {
     "data": {
      "image/png": "[encoded data removed]",
      "text/plain": [
       "<Figure size 640x480 with 1 Axes>"
      ]
     },
     "metadata": {},
     "output_type": "display_data"
    }
   ],
   "source": [
    "import matplotlib.pyplot as plt\n",
    "import numpy as np\n",
    "\n",
    "angles = [item['rx_angle'] for item in result['results'].values()]\n",
    "exp_values_measured = [item['expecation_value'] for item in result['results'].values()]\n",
    "exp_values_actual = np.cos(angles)\n",
    "\n",
    "plt.plot(angles, exp_values_actual, '-', color='blue')\n",
    "plt.plot(angles, exp_values_measured, 'o', color='red')\n",
    "plt.draw()"
   ]
  },
  {
   "cell_type": "markdown",
   "metadata": {},
   "source": [
    "'x'축은 라디언값:0~3.14"
   ]
  },
  {
   "cell_type": "markdown",
   "metadata": {},
   "source": [
    "아래 'Running jobs with priority on QPUs' 은 별 내용이 없기 때문에 패스"
   ]
  },
  {
   "cell_type": "markdown",
   "metadata": {},
   "source": [
    "## Running jobs with priority on QPUs\n",
    "\n",
    "With Braket Jobs, you can run hybrid algorithms on all QPUs available through Amazon Braket. When you select a QPU as your device, your job will have priority access for the duration of your job. Quantum tasks created as part of your job will be executed ahead of other tasks in the device queue. This reduces the risk of certain tasks being delayed or drifting calibrations on the device. \n",
    "\n",
    "Before you create a hybrid job which runs tasks on a QPU, you can check how many quantum tasks or hybrid jobs are in front of you by checking device queue depth.\n",
    "\n",
    "You can seamlessly swap the SV1 simulator for a QPU by changing the device argument in the decorator. \n",
    "\n",
    "When you create the job, Amazon Braket will wait for the QPU to become available before initializing the job. Note that the Braket Job will automatically select the AWS region where the device is available. As mentioned earlier, the specified device is provided to the job in the environment variable `AMZN_BRAKET_DEVICE_ARN`; the script `algorithm_script.py` uses this variable to choose the Braket device to use."
   ]
  },
  {
   "cell_type": "markdown",
   "metadata": {},
   "source": [
    "큐 depth를 확인해서 큐가 비어있다면 SV1에서 QPU로 바꿔봐라"
   ]
  },
  {
   "cell_type": "markdown",
   "metadata": {},
   "source": [
    "* Normal task queue depth refers to the total number of quantum tasks currently waiting to run in normal priority.\n",
    "* Priority task queue depth refers to the total number of submitted quantum tasks waiting to run through Amazon Braket Hybrid Jobs. These tasks run before standalone tasks.\n",
    "* Hybrid jobs queue depth refers to the total number of hybrid jobs currently queued on a device. Quantum tasks submitted as part of a hybrid job have priority, and are aggregated in the Priority Task Queue.\n",
    "\n",
    "\n",
    "After you have created a hybrid job, you can track its current position within a respective device queue."
   ]
  },
  {
   "cell_type": "code",
   "execution_count": 11,
   "metadata": {
    "tags": []
   },
   "outputs": [
    {
     "name": "stdout",
     "output_type": "stream",
     "text": [
      "QueueDepthInfo(quantum_tasks={<QueueType.NORMAL: 'Normal'>: '0', <QueueType.PRIORITY: 'Priority'>: '0'}, jobs='0')\n"
     ]
    }
   ],
   "source": [
    "from braket.aws import AwsDevice\n",
    "from braket.devices import Devices\n",
    "\n",
    "# This device is used for demonstration purposes only. The actual device used for our job has been specified above.\n",
    "#device = AwsDevice(Devices.Rigetti.AspenM3)\n",
    "device = AwsDevice(\"arn:aws:braket:us-west-1::device/qpu/rigetti/Ankaa-3\")\n",
    "print(device.queue_depth())"
   ]
  },
  {
   "cell_type": "code",
   "execution_count": 12,
   "metadata": {
    "tags": []
   },
   "outputs": [
    {
     "data": {
      "text/plain": [
       "HybridJobQueueInfo(queue_position=None, message='Job is in COMPLETED status. AmazonBraket does not show queue position for this status.')"
      ]
     },
     "execution_count": 12,
     "metadata": {},
     "output_type": "execute_result"
    }
   ],
   "source": [
    "job.queue_position()"
   ]
  },
  {
   "cell_type": "markdown",
   "metadata": {},
   "source": [
    "Jobs running task on an on-demand simulator are transitioning quickly to the `RUNNING` state. In this case, the job does not have a queue position anymore."
   ]
  },
  {
   "cell_type": "markdown",
   "metadata": {},
   "source": [
    "아래 코드는 하이브리드 양자-고전 알고리즘을 로컬에서 실행하는 예제. \n",
    "맨 위 그림의 오른쪽 환경에 있는 임베디드 시뮬레이터를 사용하는 경우 아까와는 달리, 매우 빠르게 로컬 환경에서 실행되는 것을 확인할 수 있다. \n",
    "따라서 빠른 개발과 디버깅이 필요하다면 로컬 환경 사용을 추천. 단 로컬에서 실행되었기 때문에 실행결과는 콘솔에서 확인이 불가능하다"
   ]
  },
  {
   "cell_type": "markdown",
   "metadata": {},
   "source": [
    "## Debugging with local Braket Jobs\n",
    "\n",
    "For faster testing and debugging of your code, you can run a job locally in your own environment. This feature requires Docker to be installed in your local environment. Amazon Braket notebooks have Docker pre-installed, so you can test local jobs in hosted notebooks instantly. To install Docker in your local environment, follow these [instructions](https://docs.docker.com/get-docker/). When a local job is created for the first time, it will take longer because it needs to build the container. The subsequent runs will be faster. Note that local jobs will not be visible in the Amazon Braket Console.\n",
    "\n",
    "To run a job in local mode, make sure the Docker daemon is running, and then simply add `local=True` to the hybrid job decorator. Local jobs run synchronously and display the logs."
   ]
  },
  {
   "cell_type": "markdown",
   "metadata": {},
   "source": [
    "디버깅 등을 위해 코드를 더 빠르게 테스트 하기 위해서 로컬 환경을 사용할 수 있음\n",
    "\n",
    "로컬 환경은 별도의 작업 인스턴스를 프로비저닝하는 오버헤드 없이 코드를 빠르게 반복하고하고 디버깅 할 수 있다는 장점이 존재\n",
    "\n",
    "local=True 설정이 있으면, 시뮬레이터(앙자 하드웨어)는 그대로 SV1이 사용되며, 고전 컴퓨팅 리소스는 별도 작업 인스턴스를 프로비저닝 하지 않고 아닌 로컬 리소스(로컬 PC, 주피터 노트북)를 사용하게 됨"
   ]
  },
  {
   "cell_type": "code",
   "execution_count": 13,
   "metadata": {
    "tags": []
   },
   "outputs": [
    {
     "name": "stderr",
     "output_type": "stream",
     "text": [
      "WARNING! Using --password via the CLI is insecure. Use --password-stdin.\n",
      "WARNING! Your password will be stored unencrypted in /home/ec2-user/.docker/config.json.\n",
      "Configure a credential helper to remove this warning. See\n",
      "https://docs.docker.com/engine/reference/commandline/login/#credentials-store\n",
      "\n",
      "Pulling docker container image. This may take a while.\n"
     ]
    },
    {
     "name": "stdout",
     "output_type": "stream",
     "text": [
      "Login Succeeded\n",
      "latest: Pulling from amazon-braket-base-jobs\n",
      "Digest: sha256:a26cc92a6079ac6e12690ad8b082cca20f80f74f4cdb1361375107d97ac27ba1\n",
      "Status: Image is up to date for 292282985366.dkr.ecr.us-east-1.amazonaws.com/amazon-braket-base-jobs:latest\n",
      "292282985366.dkr.ecr.us-east-1.amazonaws.com/amazon-braket-base-jobs:latest\n"
     ]
    },
    {
     "name": "stderr",
     "output_type": "stream",
     "text": [
      "Using the short-lived AWS credentials found in session. They might expire while running.\n"
     ]
    },
    {
     "name": "stdout",
     "output_type": "stream",
     "text": [
      "Boto3 Version:  1.37.10\n",
      "Beginning Setup\n",
      "Checking for Additional Requirements\n",
      "Additional Requirements Check Finished\n",
      "Running Code As Process\n",
      "Execution started\n",
      "Quantum circuit:\n",
      "T  : │      0      │   Result Types   │\n",
      "      ┌───────────┐ ┌────────────────┐ \n",
      "q0 : ─┤ Rx(theta) ├─┤ Expectation(Z) ├─\n",
      "      └───────────┘ └────────────────┘ \n",
      "T  : │      0      │   Result Types   │\n",
      "\n",
      "Unassigned parameters: [theta].\n",
      ">>> Iteration 0\n",
      "Metrics - timestamp=1742540971.3326232; rotation_angle=0.0; iteration_number=0;\n",
      "Metrics - timestamp=1742540971.3326514; expectation_value=1.0; iteration_number=0;\n",
      ">>> Iteration 1\n",
      "Metrics - timestamp=1742540974.4664228; rotation_angle=0.3141592653589793; iteration_number=1;\n",
      "Metrics - timestamp=1742540974.4664536; expectation_value=0.944; iteration_number=1;\n",
      ">>> Iteration 2\n",
      "Metrics - timestamp=1742540977.2048206; rotation_angle=0.6283185307179586; iteration_number=2;\n",
      "Metrics - timestamp=1742540977.2048495; expectation_value=0.78; iteration_number=2;\n",
      ">>> Iteration 3\n",
      "Metrics - timestamp=1742540979.8629391; rotation_angle=0.9424777960769379; iteration_number=3;\n",
      "Metrics - timestamp=1742540979.8629692; expectation_value=0.578; iteration_number=3;\n",
      ">>> Iteration 4\n",
      "Metrics - timestamp=1742540982.4703414; rotation_angle=1.2566370614359172; iteration_number=4;\n",
      "Metrics - timestamp=1742540982.47037; expectation_value=0.33; iteration_number=4;\n",
      ">>> Iteration 5\n",
      "Metrics - timestamp=1742540985.3015888; rotation_angle=1.5707963267948966; iteration_number=5;\n",
      "Metrics - timestamp=1742540985.30162; expectation_value=-0.06; iteration_number=5;\n",
      ">>> Iteration 6\n",
      "Metrics - timestamp=1742540987.9601736; rotation_angle=1.8849555921538759; iteration_number=6;\n",
      "Metrics - timestamp=1742540987.9602034; expectation_value=-0.336; iteration_number=6;\n",
      ">>> Iteration 7\n",
      "Metrics - timestamp=1742540990.6836882; rotation_angle=2.199114857512855; iteration_number=7;\n",
      "Metrics - timestamp=1742540990.683718; expectation_value=-0.616; iteration_number=7;\n",
      ">>> Iteration 8\n",
      "Metrics - timestamp=1742540993.3220649; rotation_angle=2.5132741228718345; iteration_number=8;\n",
      "Metrics - timestamp=1742540993.322095; expectation_value=-0.808; iteration_number=8;\n",
      ">>> Iteration 9\n",
      "Metrics - timestamp=1742540996.0011125; rotation_angle=2.827433388230814; iteration_number=9;\n",
      "Metrics - timestamp=1742540996.0011423; expectation_value=-0.968; iteration_number=9;\n",
      ">>> Iteration 10\n",
      "Metrics - timestamp=1742540998.8376203; rotation_angle=3.141592653589793; iteration_number=10;\n",
      "Metrics - timestamp=1742540998.8376484; expectation_value=-1.0; iteration_number=10;\n",
      "Execution completed\n",
      "Code Run Finished\n",
      "eaab253a4e08b5e506a643741b2526cf5559bacb997a28026d062fd09ffe103b\n",
      "local:job/run-local-job-1742540960319 COMPLETED\n"
     ]
    }
   ],
   "source": [
    "@hybrid_job(device=\"arn:aws:braket:::device/quantum-simulator/amazon/sv1\", local=True)\n",
    "#@hybrid_job(device=Devices.Amazon.SV1)\n",
    "def run_local_job(n_iterations, step_size, n_shots):\n",
    "    print(\"Execution started\")\n",
    "    cost_tracker = Tracker().start()\n",
    "\n",
    "    device = AwsDevice(get_job_device_arn())\n",
    "    results = run_algorithm(device, n_iterations, step_size, n_shots)\n",
    "\n",
    "    cost_tracker.stop()\n",
    "    print(\"Execution completed\")\n",
    "    return {\n",
    "        \"results\": results,\n",
    "        \"task summary\": cost_tracker.quantum_tasks_statistics(),\n",
    "        \"estimated cost\": float(cost_tracker.simulator_tasks_cost() + cost_tracker.qpu_tasks_cost()),\n",
    "    }\n",
    "\n",
    "\n",
    "local_job = run_local_job(n_iterations=11, step_size=0.1, n_shots=1000)\n",
    "print(f\"{local_job.arn} {local_job.state()}\")"
   ]
  },
  {
   "cell_type": "code",
   "execution_count": 14,
   "metadata": {
    "tags": []
   },
   "outputs": [
    {
     "name": "stdout",
     "output_type": "stream",
     "text": [
      "Task Summary\n",
      "{'arn:aws:braket:::device/quantum-simulator/amazon/sv1': {'shots': 11000, 'tasks': {'COMPLETED': 11}, 'execution_duration': datetime.timedelta(microseconds=147000), 'billed_execution_duration': datetime.timedelta(seconds=33)}}\n",
      "Note: Charges shown are estimates based on your Amazon Braket simulator and quantum processing unit (QPU) task usage. Estimated charges shown may differ from your actual charges. Estimated charges do not factor in any discounts or credits, and you may experience additional charges based on your use of other services such as Amazon Elastic Compute Cloud (Amazon EC2).\n",
      "Estimated cost to run tasks in this job: 0.04125 USD\n",
      "job_arn: arn:aws:braket:us-east-1:013288819788:job/801a1c90-d676-41f4-9e69-d35698d6a84f\n"
     ]
    }
   ],
   "source": [
    "print(\"Task Summary\")\n",
    "print(local_job.result()['task summary'])\n",
    "print('Note: Charges shown are estimates based on your Amazon Braket simulator and quantum processing unit (QPU) task usage. Estimated charges shown may differ from your actual charges. Estimated charges do not factor in any discounts or credits, and you may experience additional charges based on your use of other services such as Amazon Elastic Compute Cloud (Amazon EC2).')\n",
    "print(f\"Estimated cost to run tasks in this job: {job.result()['estimated cost']} USD\")\n",
    "\n",
    "#task_id = job.metadata()\n",
    "job_arn = job.metadata()['jobArn']\n",
    "#print('Task ID:', task_id)\n",
    "print('job_arn:', job_arn)"
   ]
  },
  {
   "cell_type": "code",
   "execution_count": null,
   "metadata": {},
   "outputs": [],
   "source": []
  }
 ],
 "metadata": {
  "kernelspec": {
   "display_name": "conda_braket",
   "language": "python",
   "name": "conda_braket"
  },
  "language_info": {
   "codemirror_mode": {
    "name": "ipython",
    "version": 3
   },
   "file_extension": ".py",
   "mimetype": "text/x-python",
   "name": "python",
   "nbconvert_exporter": "python",
   "pygments_lexer": "ipython3",
   "version": "3.10.16"
  },
  "vscode": {
   "interpreter": {
    "hash": "590fab68195cf107911461461f81d5c472d3d6127f579badfcfad30f03e5cab2"
   }
  }
 },
 "nbformat": 4,
 "nbformat_minor": 4
}
